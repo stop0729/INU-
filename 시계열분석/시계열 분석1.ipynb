{
 "cells": [
  {
   "cell_type": "code",
   "execution_count": null,
   "metadata": {},
   "outputs": [],
   "source": []
  },
  {
   "cell_type": "code",
   "execution_count": 1,
   "metadata": {},
   "outputs": [],
   "source": [
    "import scipy\n",
    "import numpy\n",
    "import matplotlib\n",
    "import pandas\n",
    "import statsmodels\n",
    "import sklearn"
   ]
  },
  {
   "cell_type": "markdown",
   "metadata": {},
   "source": [
    "## What is Time Series ??\n",
    "\n",
    "+ 시간대별로된 dataset\n",
    "+ x축은 보통 시간의 흐름\n",
    "+ 시간의 흐름에 따라 변하는 data\n",
    "+ 미래시간의 대한 결과를 예측하기 위해서 사용"
   ]
  },
  {
   "cell_type": "markdown",
   "metadata": {},
   "source": [
    "# Ch2 : Time Series Nomenclature\n",
    "\n",
    "+ 현재시간 = t, 이전시간 = t-1, 다음시간 = t+1로 표기하며 이에 대한 관측치는 obs(t), obs(t-1), obs(t+1)\n",
    "+ 시간 간격이 일정해야한다.\n",
    "+ 이전 시간에 대해 lag 라는 표기법도 사용한다. (e.g lag=10 이면 t-10만큼 지연됨)\n",
    "+ t-n은 n시간만큼 지연, t는 현재시간, t+n은 미래 시간또는 예측 시간이라고 한다."
   ]
  },
  {
   "cell_type": "markdown",
   "metadata": {},
   "source": [
    "## Describing vs Predicting (설명vs예측)\n",
    "\n",
    "+ dataset을 이해하는가에 관심 vs 예측을 하는데 관심\n",
    "+ Time Series Analysis는 dataset을 분석하고 이해하는것\n",
    "+ Seasonal pattenrs, Trend, Relation to external factors 등에 관심\n",
    "+ Time Series Forecasting은 Time Series의 정보를 사용하여 해당 Time Series의 미래값을 예측한다"
   ]
  },
  {
   "cell_type": "markdown",
   "metadata": {},
   "source": [
    "## Time Series Analysis\n",
    " \n",
    "+ 목표는 data를 잘 표현하는 수학적 모델을 개발하는것\n",
    "+ 통계를 사용"
   ]
  },
  {
   "cell_type": "markdown",
   "metadata": {},
   "source": [
    "## Time Series Forecasting\n",
    "\n",
    "+ 주요 목표는 미래값을 예측하는것\n",
    "+ 미래에 대한 예측을 외삽 (extrapolation) 이라고 부른다.\n",
    "+ 외삽이란? 보간의 두 값을 알고 있는 상태에서 두점을 포함하는 범위의 바깥에 있는 값을 구하기 위하여 구간밖의 함수를 추정하는 일\n",
    "+ 이미 발생한 상황으로만(확실한 값으로만) 미래를 추정해야한다."
   ]
  },
  {
   "cell_type": "markdown",
   "metadata": {},
   "source": [
    "## Components of Time Series\n",
    "\n",
    "+ Level : 관측값들\n",
    "+ Trend : 시간이 흐름에 따른 series의 변동성. 굉장히 rough한(세세하지 않은, 대략적인 추이를 보는) 값이다.\n",
    "+ Seasonality : 반복 패턴 또는 시간 흐름에 따른 동작 주기\n",
    "+ Noise : 모델로 설명할 수 없는 관측치의 성택적인 변동성. Outlier(이상치)"
   ]
  },
  {
   "cell_type": "markdown",
   "metadata": {},
   "source": [
    "## Examples of Time Series Forecasting\n",
    "\n",
    "* 옥수수 수확량\n",
    "* 주식의 종가를 예측. (Extra factor가 너무 많아서 힘듬)\n",
    "* 출생률\n",
    "* 판매량 예측\n",
    "* 외부 요인도 알아낼 수 있다.\n",
    "* 서버의 활용 수요\n",
    "* 분기당 실업률"
   ]
  },
  {
   "cell_type": "markdown",
   "metadata": {},
   "source": [
    "# Ch3 : Time Series as Supervised Learning\n",
    "\n",
    "* 데이터가 시간의 종속된 상태라. gridsearch, fold 불가. 데이터가 상관관계가 높음\n",
    "+ Time Series Data를 프레임화하는 Sliding Window란?\n",
    "+ Multivariates Data, multiple Steps Forecasting Sliding Window 사용법은?"
   ]
  },
  {
   "cell_type": "markdown",
   "metadata": {},
   "source": [
    "## Sliding Window\n",
    "\n",
    "+ Sliding window : 긴 series 데이터를 분석할때, 한꺼번에 분석하기는 어렵다. 이전값을 사용하여 다음값을 예측함으로써 Time Series datset을 재구성하게 해준다.\n",
    "+ 현재 관측값 = f(직전 관측값)\n",
    "+ time 은 index로 볼 수 있음\n",
    "+ 입력과 출력값으로 재구성 되어야 한다.\n",
    "+ window width(lag size)는 이전 시간의 단계의 수를 말한다.\n",
    "+ 입력으로 들어갈 이전값이 한개면 window width =1, 이전값이 두개면 window width =2"
   ]
  },
  {
   "cell_type": "markdown",
   "metadata": {},
   "source": [
    "## Wliding wondow with Multivariates\n",
    "\n",
    "+ sliding window 문제에서 변수가 두개 이상인 것\n",
    "+ 변수 여러개중 하나를 y라 보고 y = f(x1, x2, x3) 이런식으로 볼 수 있음\n",
    "+ 입력과 출력의 관계를 가지는 일반적인 dataset으로 재구성 해줌\n",
    "+ 이건 좀 헷갈리네"
   ]
  },
  {
   "cell_type": "markdown",
   "metadata": {},
   "source": [
    "## Sliding Window with Multiple Steps\n",
    "\n",
    "+ 앞에서는 시간이 t라고 한다면 t를 활용하여 t+1을 예측했다.\n",
    "+ 다단게 예측에서는 t를 이용하여 t+1, t+2 를 예측한다."
   ]
  },
  {
   "cell_type": "code",
   "execution_count": null,
   "metadata": {},
   "outputs": [],
   "source": []
  }
 ],
 "metadata": {
  "kernelspec": {
   "display_name": "Python 3",
   "language": "python",
   "name": "python3"
  },
  "language_info": {
   "codemirror_mode": {
    "name": "ipython",
    "version": 3
   },
   "file_extension": ".py",
   "mimetype": "text/x-python",
   "name": "python",
   "nbconvert_exporter": "python",
   "pygments_lexer": "ipython3",
   "version": "3.8.5"
  }
 },
 "nbformat": 4,
 "nbformat_minor": 4
}
